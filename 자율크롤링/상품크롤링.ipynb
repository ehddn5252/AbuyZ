{
 "cells": [
  {
   "cell_type": "markdown",
   "metadata": {},
   "source": [
    "# 📌 상품 정보 크롤링  \n",
    "* urllib 라이브러리 사용해 파일 다운로드"
   ]
  },
  {
   "cell_type": "markdown",
   "metadata": {},
   "source": [
    "### ✏️ 상품 페이지 목록 받아오기"
   ]
  },
  {
   "cell_type": "code",
   "execution_count": null,
   "metadata": {},
   "outputs": [],
   "source": [
    "# 라이브러리 읽어들이기\n",
    "import requests\n",
    "import re\n",
    "import os\n",
    "from bs4 import BeautifulSoup as bs\n",
    "\n",
    "# 파일 주소 크롤링\n",
    "def bs_parsing(url):\n",
    "  response = requests.get(root_url + url)\n",
    "  soup = bs(response.text, \"html.parser\")\n",
    "  elements = soup.select(\"table#flisttable td > a\")\n",
    "  \n",
    "  # 주소 담을 리스트\n",
    "  page_list = []\n",
    "  \n",
    "  # 상세 페이지 주소 리스트화\n",
    "  for (idx, el) in enumerate(elements, 1):\n",
    "    page_list.append(root_url + el.attrs[\"href\"].replace(\"%2F\", \"/\"))\n",
    "    \n",
    "  return page_list\n",
    "\n",
    "# 리스트 값을 txt 파일에 한 줄씩 저장\n",
    "def save_text_file(page_list):\n",
    "  f = open(\"C:/Users/sodud/study/ssafy_spec_pjt/subtitle/data/page_url_list.txt\", \"w\", encoding=\"UTF8\")\n",
    "  for page in page_list:\n",
    "    f.write(page)\n",
    "    f.write(\"\\n\")\n",
    "  f.close\n",
    "  (\"[SUCCESS] 자막 페이지 목록 저장\")\n",
    "\n",
    "# 자막 사이트\n",
    "root_url = \"https://kitsunekko.net\"\n",
    "\n",
    "# 일본어 자막 목록 페이지\n",
    "page_url = \"/dirlist.php?dir=subtitles/japanese/\"\n",
    "\n",
    "# 자막 페이지 목록 리스트로 저장\n",
    "page_list = bs_parsing(page_url)\n",
    "\n",
    "# 리스트를 txt 파일로 저장\n",
    "save_text_file(page_list)"
   ]
  },
  {
   "cell_type": "markdown",
   "metadata": {},
   "source": [
    "### ✏️ 상품 정보 엑셀로 저장"
   ]
  },
  {
   "cell_type": "code",
   "execution_count": 84,
   "metadata": {},
   "outputs": [
    {
     "name": "stdout",
     "output_type": "stream",
     "text": [
      "(1, datetime.datetime(2022, 11, 1, 0, 21, 41), 0, 'https://plussimage.lotte.com/cdnimage/ismsimage/GOODSDTLIMG/20220121/10/3e80b258-757c-42a9-bf21-14dd926a0752.jpg', 20, '에어 맥스 SC CW4555-002', 89000, None, 4.8, 'selling', 1, 8, None)\n",
      "(2, datetime.datetime(2022, 11, 1, 0, 21, 41), 0, 'https://ai.esmplus.com/mc92931/%EC%BD%94%EC%8A%A4%ED%8A%B8%EC%BD%94/costco-604243/1.jpg', 0, '델몬트 스퀴즈 사과 오렌지 에이드 240ml x 30 x 2팩', 22890, None, 0.0, 'selling', 1, 5, None)\n"
     ]
    }
   ],
   "source": [
    "# import chromedriver_autoinstaller\n",
    "# chromedriver_autoinstaller.install()\n",
    "\n",
    "import requests\n",
    "import re\n",
    "import os\n",
    "from selenium import webdriver\n",
    "from bs4 import BeautifulSoup\n",
    "from openpyxl import Workbook\n",
    "import pymysql\n",
    "\n",
    "# DB 연결용\n",
    "conn = pymysql.connect(host='k7e201.p.ssafy.io',\n",
    "                       user='abuyz7e201',\n",
    "                       password='a-buy-z-e201',\n",
    "                       db='wkdbf',\n",
    "                       charset='utf8')\n",
    "\n",
    "\n",
    "sql = \"SELECT * FROM products\"\n",
    "\n",
    "with conn:\n",
    "    with conn.cursor() as cur:\n",
    "        cur.execute(sql)\n",
    "        result = cur.fetchall()\n",
    "        for data in result:\n",
    "            print(data)\n",
    "\n",
    "\n",
    "# wb = Workbook()\n",
    "# ws = wb.create_sheet('상품정보')\n",
    "# # 컬럼 명\n",
    "# ws.append([ '이름', '가격', '설명 이미지', '상품 상태', '할인율', '리뷰 평점', '배송료', '상품사진1','상품사진2','상품사진3'])\n",
    "\n",
    "# 임시 url\n",
    "temp_url= \"https://www.lotteon.com/p/product/LO1987818462?areaCode=AD_CPC&entryPoint=ad&dp_infw_cd=CASFC01200000&clickId=C33295679634\"\n",
    "\n",
    "webdriver_options=webdriver.ChromeOptions()\n",
    "webdriver_options.add_argument(\"--start-maximized\")\n",
    "web_driver = webdriver.Chrome(options=webdriver_options)\n",
    "web_driver.get(temp_url)\n",
    "web_driver.implicitly_wait(5)\n",
    "html = web_driver.page_source\n",
    "soup = BeautifulSoup(html, 'html.parser')\n",
    "# temp = soup.find('div', class_='productName')\n",
    "\n",
    "\n",
    "\n",
    " \n",
    "\n",
    "product_name = soup.find('div', class_='productName').text\n",
    "product_price = soup.find('div', class_='listPrice').select_one(\":nth-child(2)\").text.replace(\" \",\"\").replace(\"\\n\",\"\").replace(\",\",\"\")\n",
    "product_price = int(product_price)\n",
    "des_picture = soup.find('iframe', class_='m2-prd-frame')['src']\n",
    "\n",
    "\n",
    "# origin = soup.find('div', class_='productName').text\n",
    "# status = soup.find('div', class_='productName').text\n",
    "# producer = soup.find('div', class_='productName').text\n",
    "status = '새상품'\n",
    "\n",
    "\n",
    "discount_rate = soup.find('span', class_='discountRate').text.replace(\"할인율\",\"\").replace(\" \",\"\").replace(\"%\",\"\")\n",
    "discount_rate = int(discount_rate)\n",
    "review_rating = soup.find('a', class_='staring').em.text # 5.0\n",
    "delivery_fee = soup.find_all('li', class_='soonInfoList')[1].text\n",
    "\n",
    "# 배송비 무료 > int 변환\n",
    "val = \"무료\" in delivery_fee\n",
    "if val:\n",
    "    delivery_fee = 0\n",
    "else:\n",
    "    delivery_fee = 3000\n",
    "\n",
    "\n",
    "############### 이미지 ################\n",
    "picture_list = soup.find_all('img', class_='loaded')\n",
    "# picture_list\n",
    "# for img in picture_list:\n",
    "#     print(img['src'])\n",
    "\n",
    "# for idx in range(1,4):\n",
    "#     print(picture_list[idx]['src'])\n",
    "#     print(idx)\n",
    "product_thumbnail_1 = picture_list[1]['src']\n",
    "product_thumbnail_2 = picture_list[2]['src']\n",
    "product_thumbnail_3 = picture_list[3]['src']\n",
    "\n",
    "\n",
    "# ws.append([product_name, product_price, des_picture, status, discount_rate, review_rating, delivery_fee, product_thumbnail_1, product_thumbnail_2, product_thumbnail_3 ])\n",
    "# web_driver.implicitly_wait(3)\n",
    "\n",
    "# wb.save('temp2.xlsx')"
   ]
  }
 ],
 "metadata": {
  "kernelspec": {
   "display_name": "Python 3 (ipykernel)",
   "language": "python",
   "name": "python3"
  },
  "language_info": {
   "codemirror_mode": {
    "name": "ipython",
    "version": 3
   },
   "file_extension": ".py",
   "mimetype": "text/x-python",
   "name": "python",
   "nbconvert_exporter": "python",
   "pygments_lexer": "ipython3",
   "version": "3.9.12"
  },
  "vscode": {
   "interpreter": {
    "hash": "eebaf1173d8d9c3c4ee9a7b8bb1432a7f576348d6cb7a26bc263375fbc310797"
   }
  }
 },
 "nbformat": 4,
 "nbformat_minor": 2
}
